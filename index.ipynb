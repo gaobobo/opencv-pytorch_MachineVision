{
 "cells": [
  {
   "cell_type": "markdown",
   "id": "f24f4133",
   "metadata": {},
   "source": [
    "## 内容简介(点击实验名称跳转)\n",
    "\n",
    "1. [实验基础](./1_ExerciseBasic/1_ExerciseBasic.ipynb)\n",
    "   - OpenCV 图像基本操作：\n",
    "     - 原图像与灰度图像；\n",
    "     - 原图像与灰度图像的 `shape` 比较；\n",
    "     - 图像缩放；\n",
    "     - 矩阵切片；\n",
    "   - Notebook 与 Matplotlib：\n",
    "     - `matplotlib` 读取并绘制图像；\n",
    "     - 使用 OpenCV 读取并使用`matplotlib` 绘制图像；\n",
    "     - 色域空间转换 `v2.cvtColor(image, cv2.COLOR_BGR2RGB)`。\n",
    "1. [直方图和图像变换](./2_HistogramAndImgTrans/2_HistogramAndImgTrans.ipynb)\n",
    "   - 图像的二值化；\n",
    "   - 使用 `numpy` 创建图像；\n",
    "   - 对图像进行直方图均衡化；\n",
    "   - 图像合并。\n",
    "1. [图像特征](./3_ImgFeature/3_ImgFeature.ipynb)\n",
    "   - 二阶指数低通滤波器；\n",
    "   - 均值滤波器、中值滤波器、高斯滤波器；\n",
    "   - Canny 算法。\n",
    "1. [图像特征提取和匹配](./4_ImgFeatureAndDetection/4_ImgFeatureAndDetection.ipynb)\n",
    "   - 使用SIFT提取特征点并合并两图像；\n",
    "   - 提取车牌对象。\n",
    "1. [课内竞赛-图像分类](./5_In-ClassCompetition-ImgClassification/5_In-ClassCompetition-ImgClassification.ipynb)\n",
    "   - 构建一猫的二分类模型，模型输出Sigmoid函数激活后的一个神经元。\n",
    "1. [深度卷积神经网络-图像分类](./6_CNN-ImgClassification/6_CNN-ImgClassification.ipynb)\n",
    "   - MNIST 手写数字识别\n",
    "   - 迁移学习-CIFAR10 分类\n",
    "1. [目标检测](./7_YOLO-FeatureDetection/7_YOLO-FeatureDetection.ipynb)\n",
    "   - 使用 YOLOv5 进行预测、训练。\n"
   ]
  },
  {
   "cell_type": "markdown",
   "id": "a47aaacb",
   "metadata": {},
   "source": [
    "## 如何运行\n",
    "\n",
    "![Run Cells](./0_index/RunCells.png)\n",
    "\n",
    "首先，在菜单中选择 Run - Run All Cells 以全部重新运行。\n",
    "\n",
    "对于只运行某一个单元格，先点选代码区域，然后选择 Run - Run Selected Cell 或使用 `Shift` + `Enter` 。"
   ]
  }
 ],
 "metadata": {
  "language_info": {
   "name": "python"
  }
 },
 "nbformat": 4,
 "nbformat_minor": 5
}
